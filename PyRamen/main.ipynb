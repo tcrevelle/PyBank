{
 "cells": [
  {
   "cell_type": "code",
   "execution_count": 5,
   "id": "7999b839-ecd1-42c9-b87c-0562f32e41bd",
   "metadata": {},
   "outputs": [],
   "source": [
    "# Import libraries\n",
    "import csv\n",
    "from pathlib import Path\n",
    "\n",
    "# Set file paths for menu_data.csv and sales_data.csv\n",
    "menu_filepath = Path('menu_data.csv')\n",
    "sales_filepath = Path('sales_data.csv')\n",
    "\n",
    "# Initialize list objects to hold our menu and sales data\n",
    "menu = []\n",
    "sales = []\n",
    "\n",
    "# Read in the menu data into the menu list\n",
    "with open(menu_filepath, 'r') as csvfile:\n",
    "    \n",
    "    # Pass in the csv file to the csv.reader() function\n",
    "    # Store the contents of budget_data.csv in the variable csvreader\n",
    "    csvreader = csv.reader(csvfile, delimiter=',')\n",
    "\n",
    "    # Skip the header labels to iterate with the values\n",
    "    csv_header = next(csvreader)\n",
    "    \n",
    "    # Open the csv file as an object\n",
    "    for row in csvreader:\n",
    "        \n",
    "        menu.append([row[0], row[1], row[2], row[3], row[4]])\n",
    "        \n",
    "# Read in the sales data into the sales list\n",
    "with open(sales_filepath, 'r') as csvfile:\n",
    "    \n",
    "    # Pass in the csv file to the csv.reader() function\n",
    "    # Store the contents of budget_data.csv in the variable csvreader\n",
    "    csvreader = csv.reader(csvfile, delimiter=',')\n",
    "\n",
    "    # Skip the header labels to iterate with the values\n",
    "    csv_header = next(csvreader)\n",
    "    \n",
    "    # Open the csv file as an object\n",
    "    for row in csvreader:\n",
    "        \n",
    "        sales.append([row[0], row[1], row[2], row[3], row[4]])\n",
    "        \n",
    "# Initialize an empty report dictionary to hold the future aggregated per-product results\n",
    "report = {}\n",
    "\n",
    "# Loop through every row in the sales list \n",
    "for sale in sales:\n",
    "    \n",
    "    # Set the quantity and menu_item to their own variables\n",
    "    quantity = int(sale[3])\n",
    "    menu_item = sale[4]    \n",
    "    \n",
    "# Initialize a row counter variable\n",
    "row_count = 0\n",
    "\n",
    "    "
   ]
  },
  {
   "cell_type": "code",
   "execution_count": null,
   "id": "5eb4667b-02f1-4b00-be9d-702a77c7b061",
   "metadata": {},
   "outputs": [],
   "source": []
  },
  {
   "cell_type": "code",
   "execution_count": null,
   "id": "f867e7c5-3a12-47bc-9f05-69d6158fe77d",
   "metadata": {},
   "outputs": [],
   "source": []
  }
 ],
 "metadata": {
  "kernelspec": {
   "display_name": "Python 3",
   "language": "python",
   "name": "python3"
  },
  "language_info": {
   "codemirror_mode": {
    "name": "ipython",
    "version": 3
   },
   "file_extension": ".py",
   "mimetype": "text/x-python",
   "name": "python",
   "nbconvert_exporter": "python",
   "pygments_lexer": "ipython3",
   "version": "3.8.8"
  }
 },
 "nbformat": 4,
 "nbformat_minor": 5
}
