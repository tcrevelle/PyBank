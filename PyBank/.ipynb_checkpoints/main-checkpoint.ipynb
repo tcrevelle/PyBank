{
 "cells": [
  {
   "cell_type": "code",
   "execution_count": 15,
   "id": "ba8328f3-4396-4b2e-838c-7c6b71757a3b",
   "metadata": {},
   "outputs": [
    {
     "name": "stdout",
     "output_type": "stream",
     "text": [
      "Financial Analysis\n",
      "----------------------------\n",
      "Total Months: 86\n",
      "Total: $38382578\n",
      "Average Change: $-2315.12\n",
      "Greatest Increase in Profits: Feb-2012 ($1926159)\n",
      "Greatest Decrease in Profits: Sep-2013 ($-2196167)\n"
     ]
    }
   ],
   "source": [
    "# Import the pathlib and csv library\n",
    "from pathlib import Path\n",
    "import csv\n",
    "\n",
    "# Set the file path\n",
    "csvpath = Path('budget_data.csv')\n",
    "\n",
    "# Initialize lists\n",
    "profit_losses = []\n",
    "months =[]\n",
    "monthly_change = []\n",
    "\n",
    "# Open the csv file as an object\n",
    "with open(csvpath, 'r') as csvfile:\n",
    "\n",
    "   \n",
    "    # Pass in the csv file to the csv.reader() function\n",
    "    # Store the contents of budget_data.csv in the variable csvreader\n",
    "    csvreader = csv.reader(csvfile, delimiter=',')\n",
    "    \n",
    "    # Skip the header labels to iterate with the values\n",
    "    csv_header = next(csvreader)\n",
    "    \n",
    "    # Open the csv file as an object\n",
    "    for row in csvreader:\n",
    "        \n",
    "        # Append months and profit_losses lists\n",
    "        months.append(row[0])\n",
    "        profit_losses.append(int(row[1]))\n",
    "        \n",
    "    # Loop through profits_losses list to find monthly change in profit/losses\n",
    "    for i in range(len(profit_losses)-1):\n",
    "        \n",
    "        #Append difference of months to monthly_change list\n",
    "        monthly_change.append(profit_losses[i+1] - profit_losses[i])\n",
    "        \n",
    "#Calculate Metrics\n",
    "month_count = len(months)\n",
    "total_profit = sum(profit_losses)\n",
    "average_change = round(sum(monthly_change) / len(monthly_change), 2)\n",
    "greatest_increase = max(monthly_change)\n",
    "greatest_decrease = min(monthly_change)\n",
    "increase_month = monthly_change.index(max(monthly_change)) + 1\n",
    "decrease_month = monthly_change.index(min(monthly_change)) + 1 \n",
    "\n",
    "# Print Financial Analysis\n",
    "print(\"Financial Analysis\")\n",
    "print(\"----------------------------\")\n",
    "print(f\"Total Months: {month_count}\")\n",
    "print(f\"Total: ${total_profit}\")\n",
    "print(f\"Average Change: ${average_change}\")\n",
    "print(f\"Greatest Increase in Profits: {months[increase_month]} (${greatest_increase})\")\n",
    "print(f\"Greatest Decrease in Profits: {months[decrease_month]} (${greatest_decrease})\")\n",
    "\n",
    "# Export text file with the financial analysis\n",
    "output_path = Path('Financial_Analysis.txt')\n",
    "with open(output_path,\"w\") as file:\n",
    "    \n",
    "    file.write(\"Financial Analysis\")\n",
    "    file.write(\"\\n\")\n",
    "    file.write(\"----------------------------\")\n",
    "    file.write(\"\\n\")\n",
    "    file.write(f\"Total Months: {month_count}\")\n",
    "    file.write(\"\\n\")\n",
    "    file.write(f\"Total: ${total_profit}\")\n",
    "    file.write(\"\\n\")\n",
    "    file.write(f\"Average Change: ${average_change}\")\n",
    "    file.write(\"\\n\")\n",
    "    file.write(f\"Greatest Increase in Profits: {months[increase_month]} (${greatest_increase})\")\n",
    "    file.write(\"\\n\")\n",
    "    file.write(f\"Greatest Decrease in Profits: {months[decrease_month]} (${greatest_decrease})\")"
   ]
  },
  {
   "cell_type": "code",
   "execution_count": null,
   "id": "d48f4eb1-341d-46b5-8e1e-e1b9c0acd532",
   "metadata": {},
   "outputs": [],
   "source": []
  },
  {
   "cell_type": "code",
   "execution_count": null,
   "id": "1800e0ac-06fb-40fd-ac0d-7cea215bcc91",
   "metadata": {},
   "outputs": [],
   "source": []
  }
 ],
 "metadata": {
  "kernelspec": {
   "display_name": "Python 3",
   "language": "python",
   "name": "python3"
  },
  "language_info": {
   "codemirror_mode": {
    "name": "ipython",
    "version": 3
   },
   "file_extension": ".py",
   "mimetype": "text/x-python",
   "name": "python",
   "nbconvert_exporter": "python",
   "pygments_lexer": "ipython3",
   "version": "3.8.8"
  }
 },
 "nbformat": 4,
 "nbformat_minor": 5
}
